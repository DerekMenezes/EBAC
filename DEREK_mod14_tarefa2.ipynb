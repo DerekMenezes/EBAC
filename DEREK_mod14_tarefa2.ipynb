{
 "cells": [
  {
   "cell_type": "code",
   "execution_count": 5,
   "id": "35cc3544",
   "metadata": {},
   "outputs": [
    {
     "name": "stdout",
     "output_type": "stream",
     "text": [
      "Quantidade de argumentos: 3 argumentos.\n",
      "Lista de argumentos: ['/Users/joicealves/anaconda3/lib/python3.11/site-packages/ipykernel_launcher.py', '-f', '/Users/joicealves/Library/Jupyter/runtime/kernel-54e58f21-fdff-4ce9-9fc4-0315f22d1c00.json']\n",
      "Argumento 0 sys.argv[0]: /Users/joicealves/anaconda3/lib/python3.11/site-packages/ipykernel_launcher.py\n",
      "Argumento 1 sys.argv[1]: -f\n",
      "Arquivo ../input/SINASC_RO_2019_-f.csv não encontrado. Verifique se digitou o mês corretamente.\n",
      "Arquivo ../input/SINASC_RO_2019_/Users/joicealves/Library/Jupyter/runtime/kernel-54e58f21-fdff-4ce9-9fc4-0315f22d1c00.json.csv não encontrado. Verifique se digitou o mês corretamente.\n",
      "Processo concluído.\n"
     ]
    }
   ],
   "source": [
    "import pandas as pd\n",
    "import matplotlib.pyplot as plt\n",
    "import os\n",
    "\n",
    "import sys\n",
    "\n",
    "meses = sys.argv[1:]\n",
    "\n",
    "print ('Quantidade de argumentos:', len(sys.argv), 'argumentos.')\n",
    "print ('Lista de argumentos:', sys.argv)\n",
    "print ('Argumento 0 sys.argv[0]:', sys.argv[0])\n",
    "print ('Argumento 1 sys.argv[1]:', sys.argv[1])\n",
    "\n",
    "if len(sys.argv) < 2:\n",
    "    print(\"Uso correto: python script.py <mes1> <mes2> ... <mesN>\")\n",
    "\n",
    "def plota_pivot_table(df, value, index, func, ylabel, xlabel, opcao='nada'):\n",
    "    if opcao == 'nada':\n",
    "        pd.pivot_table(df, values=value, index=index,\n",
    "                       aggfunc=func).plot(figsize=[15, 5])\n",
    "    elif opcao == 'sort':\n",
    "        pd.pivot_table(df, values=value, index=index,\n",
    "                       aggfunc=func).sort_values(value).plot(figsize=[15, 5])\n",
    "    elif opcao == 'unstack':\n",
    "        pd.pivot_table(df, values=value, index=index,\n",
    "                       aggfunc=func).unstack().plot(figsize=[15, 5])\n",
    "    plt.ylabel(ylabel)\n",
    "    plt.xlabel(xlabel)\n",
    "    return None\n",
    "\n",
    "\n",
    "caminho_input = \"../input/\"\n",
    "caminho_output = \"../output/figs/\"\n",
    "\n",
    "os.makedirs(caminho_output, exist_ok=True)\n",
    "\n",
    "for mes in meses:\n",
    "    arquivo_csv = f\"{caminho_input}SINASC_RO_2019_{mes}.csv\"\n",
    "    \n",
    "    if os.path.exists(arquivo_csv):\n",
    "        sinasc = pd.read_csv(arquivo_csv)\n",
    "\n",
    "        print(f\"Processando dados para o mês: {mes}\")\n",
    "        print('Data mínima:', sinasc['DTNASC'].min())\n",
    "        print('Data máxima:', sinasc['DTNASC'].max())\n",
    "\n",
    "        max_data = sinasc['DTNASC'].max()[:7]\n",
    "\n",
    "        plota_pivot_table(sinasc, 'IDADEMAE', 'DTNASC', 'count', 'Quantidade de Nascimentos', 'Data de Nascimento')\n",
    "        plt.savefig(f\"{caminho_output}quantidade_de_nascimento_{max_data}.png\")\n",
    "\n",
    "        plota_pivot_table(sinasc, 'IDADEMAE', ['DTNASC', 'SEXO'], 'mean', 'Média Idade Mãe', 'Data de Nascimento', 'unstack')\n",
    "        plt.savefig(f\"{caminho_output}media_idade_mae_por_sexo_{max_data}.png\")\n",
    "\n",
    "        plota_pivot_table(sinasc, 'PESO', ['DTNASC', 'SEXO'], 'mean', 'Média Peso Bebê', 'Data de Nascimento', 'unstack')\n",
    "        plt.savefig(f\"{caminho_output}media_peso_bebe_por_sexo_{max_data}.png\")\n",
    "\n",
    "        plota_pivot_table(sinasc, 'PESO', 'ESCMAE', 'median', 'Peso Mediano', 'Escolaridade Mãe', 'sort')\n",
    "        plt.savefig(f\"{caminho_output}peso_mediano_por_escolaridade_mae_{max_data}.png\")\n",
    "\n",
    "        plota_pivot_table(sinasc, 'APGAR1', 'GESTACAO', 'mean', 'Apgar1 Médio', 'Gestação', 'sort')\n",
    "        plt.savefig(f\"{caminho_output}media_apgar1_por_gestacao_{max_data}.png\")\n",
    "\n",
    "        plota_pivot_table(sinasc, 'APGAR5', 'GESTACAO', 'mean', 'Apgar5 Médio', 'Gestação', 'sort')\n",
    "        plt.savefig(f\"{caminho_output}media_apgar5_por_gestacao_{max_data}.png\")\n",
    "\n",
    "        print(f\"Gráficos salvos para o mês {mes}!\\n\")\n",
    "    else:\n",
    "        print(f\"Arquivo {arquivo_csv} não encontrado. Verifique se digitou o mês corretamente.\")\n",
    "\n",
    "print(\"Processo concluído.\")"
   ]
  },
  {
   "cell_type": "markdown",
   "id": "0ddc3711",
   "metadata": {},
   "source": [
    "### Comentário\n",
    "\n",
    "Rodei uma vez o arquivo e deu erro pois o caminho não existia, fui procurar como resolver e encontrei uma biblioteca que já vimos no curso!"
   ]
  },
  {
   "cell_type": "code",
   "execution_count": null,
   "id": "91f4a13c",
   "metadata": {},
   "outputs": [],
   "source": []
  }
 ],
 "metadata": {
  "kernelspec": {
   "display_name": "Python 3 (ipykernel)",
   "language": "python",
   "name": "python3"
  },
  "language_info": {
   "codemirror_mode": {
    "name": "ipython",
    "version": 3
   },
   "file_extension": ".py",
   "mimetype": "text/x-python",
   "name": "python",
   "nbconvert_exporter": "python",
   "pygments_lexer": "ipython3",
   "version": "3.11.5"
  }
 },
 "nbformat": 4,
 "nbformat_minor": 5
}
